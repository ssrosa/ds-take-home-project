{
 "cells": [
  {
   "cell_type": "markdown",
   "metadata": {},
   "source": [
    "# Editor's notes:\n",
    "\n",
    "- I've changed the title to reflect the purpose of the lesson rather than just listing terms to be learned.\n",
    "- I've strengthened the narrative of the text so that the student will understand how one idea connects to the next and how each idea is situated within a larger context.\n",
    "- I've re-written most of the copy to have a lighter, more conversational tone than the leaden tone of the original.\n",
    "- I've corrected the mathematical notation for the equations presented in the lesson. Some were missing the critical detail that the sum to be taken is the sum of all items 1 through n, $\\sum_{i = 1}^n$, not just any sum, $\\sum$. One equation had the alarming typo of introducing a variable z instead of y.\n",
    "- To help the student appreciate the connection between the asbtract notation of calculus and the concrete machinery of code, I've included functions that do the work of the equations presented in the lesson.\n",
    "- I've enriched the text with code snippets to allow the student to see how they can generate the sort of data discussed in the lesson.\n",
    "- I've replaced the static images with dynamic plots. This allows the student to play with visualizing the data on their own.\n",
    "- Working from the assumption that the more abstract the concept, the more defensively we must insist that it will be relevant to the student's day-to-day work in industry, I've added bits throughout the text to explain how a given concept will do this.\n",
    "\n",
    "--Steven Rosa, 10 June 2019"
   ]
  },
  {
   "cell_type": "markdown",
   "metadata": {},
   "source": [
    "# Measuring Simultaneous Change in Two Random Variables\n",
    "\n",
    "## Introduction \n",
    "\n",
    "In this section you have been learning about random variables. You've learned that the set of possible values of a random variable may be measured and plotted with a distribution. You've seen the normal (or Gaussian, or bell-shaped) distribution, and you've learned about some of its parameters, the mean and the standard deviation. In the previous lesson you learned that the standard deviation ($\\sigma$, lower-case sigma) measures how the data in a distribution are dispersed away from the mean value. \n",
    "\n",
    "What if we want to compare the spreads of two different random variables? Two distributions that change together in a positive or negative way might share an important relationship. Observing and measuring such a relationship may yield insights for a data scientist to present to their organization. In this lesson you will learn how to measure the way that the distributions of two random variables change together using variance, covariance, and correlation.\n",
    "\n",
    "## Objectives\n",
    "\n",
    "You will be able to\n",
    "\n",
    "* calculate the variance of the distribution of a random variable based on its standard deviation\n",
    "* calculate the covariance and correlation of the distributions of two random variables\n",
    "* distinguish covariance and correlation and use the results of each measure to make obversations about the relationship between two random variables\n",
    "\n",
    "## From Standard Deviation ($\\sigma$) to Variance ($\\sigma^2$)\n",
    "\n",
    "If the standard deviation measures the spread of values away from the mean of a distribution in one direction, then its square, variance, measures the spread away in both directions. It tells us how much the data varies from its mean. Let's look at an uncontroversial example: carrot length. Let's assume that carrot length is a normally-distributed random variable, and let's say that the mean length of 1000 carrots in a produce market is 20cm."
   ]
  },
  {
   "cell_type": "code",
   "execution_count": 2,
   "metadata": {},
   "outputs": [
    {
     "data": {
      "image/png": "[encoded data removed]",
      "text/plain": [
       "<Figure size 432x288 with 1 Axes>"
      ]
     },
     "metadata": {
      "needs_background": "light"
     },
     "output_type": "display_data"
    }
   ],
   "source": [
    "#Mean: carrot length in cm\n",
    "mu = 20\n",
    "\n",
    "#Size of population: number of carrots in market\n",
    "n = 1000\n",
    "\n",
    "# Random variable, normally-distributed: carrot length\n",
    "import numpy as np\n",
    "carrot_lengths = np.random.normal(loc = mu, size = n)\n",
    "\n",
    "# Plot the distribution\n",
    "import matplotlib.pyplot as plt\n",
    "plt.hist(carrot_lengths, bins = 50)\n",
    "plt.title('Lengths of carrots in a produce market')\n",
    "plt.show()"
   ]
  },
  {
   "cell_type": "markdown",
   "metadata": {},
   "source": [
    "The distribution doesn't look *totally* normal - few real-life distributions do - but if the market stocked, say, 100,000 carrots instead of 1,000, we might see the distribution tend more toward normality. Let's assume it's important to know how many carrots are of average length and how many are extra long or short. (Maybe the average-length carrots fit the best in the display bin and the others have to be kept in the back room.) We want to know how many deviate from the standard. Recall the formula for calculating standard deviation:\n",
    "\n",
    "$$\\sigma = \\sqrt{\\frac{\\sum_{i = 1}^n(x_i - \\mu)^2}{n}}$$\n",
    "\n",
    "To get the standard deviation ($\\sigma$), we take the difference between each value in the distribution and the mean ($x_i - \\mu$), square it, take the sum of all these squares $(\\sum)$, divide by the population size (n), and take the square root.\n",
    "\n",
    "This equation translates well into a Pythonic function."
   ]
  },
  {
   "cell_type": "code",
   "execution_count": 3,
   "metadata": {},
   "outputs": [],
   "source": [
    "#Function to calculate standard deviation\n",
    "def find_std(X):\n",
    "    \n",
    "    mu = X.mean()\n",
    "    n = len(X)\n",
    "    \n",
    "    sigma = np.sqrt(\n",
    "                    np.sum(\n",
    "                                (X - mu)**2 \n",
    "                           ) / n         \n",
    "                    )\n",
    "    return sigma"
   ]
  },
  {
   "cell_type": "markdown",
   "metadata": {},
   "source": [
    "Let's try calling that function. Remember that the distribution of carrot lengths is normal so we can expect its standard deviation to be 1."
   ]
  },
  {
   "cell_type": "code",
   "execution_count": 4,
   "metadata": {
    "scrolled": true
   },
   "outputs": [
    {
     "data": {
      "text/plain": [
       "1.0142388792325392"
      ]
     },
     "execution_count": 4,
     "metadata": {},
     "output_type": "execute_result"
    }
   ],
   "source": [
    "find_std(carrot_lengths) #Should return value very close to 1"
   ]
  },
  {
   "cell_type": "markdown",
   "metadata": {},
   "source": [
    "Rather than write a function from scratch, the produce market's data scientist could save time by calling the .std() function on a NumPy array."
   ]
  },
  {
   "cell_type": "code",
   "execution_count": 5,
   "metadata": {},
   "outputs": [
    {
     "data": {
      "text/plain": [
       "1.0142388792325392"
      ]
     },
     "execution_count": 5,
     "metadata": {},
     "output_type": "execute_result"
    }
   ],
   "source": [
    "#Built-in function for NumPy arrays\n",
    "carrot_lengths.std()"
   ]
  },
  {
   "cell_type": "markdown",
   "metadata": {},
   "source": [
    "Now to variance. Variance is the spread of the data in the distribution in both directions. It is the standard deviation squared. Its formula is the same as the formula for standard deviation but with the square root knocked off."
   ]
  },
  {
   "cell_type": "markdown",
   "metadata": {},
   "source": [
    "$$\\sigma^2 = \\frac{\\sum_{i = 1}^n(x_i - \\mu)^2}{n}$$"
   ]
  },
  {
   "cell_type": "markdown",
   "metadata": {},
   "source": [
    "To get the variance ($\\sigma^2$), we take the difference between each value in the distribution and the mean ($x_i - \\mu$), square it, take the sum of all these squares ($\\sum$), and divide by the population size (n).\n",
    "\n",
    "A from-scratch function to calculate variance would look similar to the $\\sigma$ function:"
   ]
  },
  {
   "cell_type": "code",
   "execution_count": 6,
   "metadata": {},
   "outputs": [],
   "source": [
    "#Function to calculate variance\n",
    "def find_var(X):\n",
    "    \n",
    "    mu = X.mean()\n",
    "    n = len(X)\n",
    "    \n",
    "    variance = np.sum(\n",
    "                        (X - mu)**2 \n",
    "                    ) / n         \n",
    "                    \n",
    "    return variance"
   ]
  },
  {
   "cell_type": "code",
   "execution_count": 7,
   "metadata": {},
   "outputs": [
    {
     "data": {
      "text/plain": [
       "1.0286805041468774"
      ]
     },
     "execution_count": 7,
     "metadata": {},
     "output_type": "execute_result"
    }
   ],
   "source": [
    "find_var(carrot_lengths)"
   ]
  },
  {
   "cell_type": "markdown",
   "metadata": {},
   "source": [
    "And you can guess how the built-in NumPy function looks:"
   ]
  },
  {
   "cell_type": "code",
   "execution_count": 8,
   "metadata": {},
   "outputs": [
    {
     "data": {
      "text/plain": [
       "1.0286805041468774"
      ]
     },
     "execution_count": 8,
     "metadata": {},
     "output_type": "execute_result"
    }
   ],
   "source": [
    "carrot_lengths.var()"
   ]
  },
  {
   "cell_type": "markdown",
   "metadata": {},
   "source": [
    "We've so far looked at a *population* distribution. If we were looking at a *sample* distribution, meaning just a selection of values from a much larger population distribution, we'd make an adjustment to our calculation for variance to eliminate potential 'bias' in the sample. We'd subtract 1 from n.\n",
    "\n",
    "If we're already used to working with the standard deviation, why bother with the variance? One reason to look at variance is if you're concerned about outliers--those super duper long or short carrots. A distribution with extreme outliers will have a *much* higher variance because all those big values get *much* bigger after getting squared than small values do.\n",
    "\n",
    "Standard deviation is in the same units as the data itself so it is often the better choice when examining one distribution. It becomes less useful when comparing the spread of two or more distributions. That's when variance comes in handy.\n",
    "\n",
    "Let's look at the variances of a few different distributions."
   ]
  },
  {
   "cell_type": "code",
   "execution_count": 9,
   "metadata": {},
   "outputs": [
    {
     "name": "stderr",
     "output_type": "stream",
     "text": [
      "/Users/ssrosa/anaconda3/lib/python3.7/site-packages/scipy/stats/stats.py:1713: FutureWarning: Using a non-tuple sequence for multidimensional indexing is deprecated; use `arr[tuple(seq)]` instead of `arr[seq]`. In the future this will be interpreted as an array index, `arr[np.array(seq)]`, which will result either in an error or a different result.\n",
      "  return np.add.reduce(sorted[indexer] * weights, axis=axis) / sumval\n"
     ]
    },
    {
     "data": {
      "image/png": "[encoded data removed]",
      "text/plain": [
       "<Figure size 576x360 with 1 Axes>"
      ]
     },
     "metadata": {
      "needs_background": "light"
     },
     "output_type": "display_data"
    }
   ],
   "source": [
    "#Another plotting library, a little fancier than matplotlib\n",
    "import seaborn as sns\n",
    "\n",
    "#Another distribution of carrot lengths\n",
    "#(The 'scale' is the standard deviation parameter)\n",
    "virginias_vegetables = np.random.normal(loc = mu, scale = 3, size = n)\n",
    "\n",
    "#A third distribution of carrot lengths\n",
    "raouls_roots = np.random.normal(loc = mu, scale = 5, size = n)\n",
    "\n",
    "#Draw a figure\n",
    "fig = plt.figure(figsize = (8,5))\n",
    "#KDE plots for the three distributions. A KDE plot shows the same \n",
    "#'trend' in the data as a histogram but is less cluttered.\n",
    "sns.kdeplot(carrot_lengths, \\\n",
    "            label = f'Flatiron Farms (var: {round(carrot_lengths.var())})')\n",
    "sns.kdeplot(virginias_vegetables, \\\n",
    "            label = f'Virginia\\'s Vegetables (var: {round(virginias_vegetables.var())})')\n",
    "sns.kdeplot(raouls_roots, \\\n",
    "            label = f'Raoul\\'s Roots (var: {round(raouls_roots.var())})')\n",
    " \n",
    "plt.xlabel('Length of carrots (cm)')\n",
    "plt.legend()\n",
    "plt.title('Lengths of carrots from various farms')\n",
    "plt.show()"
   ]
  },
  {
   "cell_type": "markdown",
   "metadata": {},
   "source": [
    "These three farms could each sell our produce market 1000 carrots with a mean length of 20cm, but how many of the carrots from each farm would actually fit in our display bin? Most of those sold by Flatiron Farms would fit because few of them vary from the mean; its variance is low. Imagine all the Flatiron carrots were stacked up beneath the curve, with the extra-long and extra-short ones rolling off the pile onto the sides. It's easy to see that the higher-variance batches from those other two farms would be less practical for our store to display and sell. \n",
    "\n",
    "The extremely high variance for Raoul's carrots compared to Flatiron's is a stark warning about the wild variation of his products. They're all over the place. We wouldn't see this as clearly if we just looked at the standard deviations."
   ]
  },
  {
   "cell_type": "code",
   "execution_count": 10,
   "metadata": {},
   "outputs": [
    {
     "name": "stdout",
     "output_type": "stream",
     "text": [
      "Standard deviation of carrot lengths from three farms\n",
      "Flatiron Farms: 1.0\n",
      "Virginia's Vegetables: 3.0\n",
      "Raoul\\s Roots: 5.0\n"
     ]
    }
   ],
   "source": [
    "print('Standard deviation of carrot lengths from three farms')\n",
    "print(f'Flatiron Farms: {round(carrot_lengths.std())}')\n",
    "print(f'Virginia\\'s Vegetables: {round(virginias_vegetables.std())}')\n",
    "print(f'Raoul\\s Roots: {round(raouls_roots.std())}')"
   ]
  },
  {
   "cell_type": "markdown",
   "metadata": {},
   "source": [
    "5 to 1 doesn't seem like a big difference compared to 25 to 1. The data scientist at the produce market had better tell the procurement specialist about this before they place the next order!\n",
    "\n",
    "## From Variance ($\\sigma^2$) to Covariance ($\\sigma_{xy}$)\n",
    "\n",
    "Yes, the world of the carrots is thrilling, but it can only teach us so much. In your work as a data scientist you'll be grappling with even more exciting data. You'll often be looking for relationships between two or more different distributions. This will come up when you do hypothesis testing and when you select features for regression models. When you're looking for a relationship between two variables, you're looking for a *correlation*. Two correlated variables tend to deviate from their means in a similar way. Correlation does not tell us whether one variable causes the change in the other. You may have heard the classic scientist's admonishment that \"correlation is not causation.\" More on that later.\n",
    "\n",
    "For now, to understand correlation, we first need to understand covariance. Covariance is a 'raw' measure of how two random variables change together. (You'll see what we mean by 'raw' in a moment.)\n",
    "\n",
    "The formula for calculating covariance is:\n",
    "\n",
    "$$\\sigma_{xy} = \\frac{\\sum_{i = 1}^n(x_i - \\mu_x)(y_i - \\mu_y)}{n}$$\n",
    "\n",
    "To get the covariance ($\\sigma_{xy}$), we take the difference between each value in the first distribution and its mean ($x_i - \\mu_x$), multiply it by the difference between each value in the second distribution and its mean ($y_i - \\mu_y$), take the sum of all these products ($\\sum$), and divide by the population size (n). The only difference between this equation and the equation for covariance is that we do not square the differences between the first distribution and the mean. Instead, we multiply each of them by the differences of the other distribution and its mean. Other than that, it's the same. All this assumes that both distributions have the same population size.\n",
    "\n",
    "A from-scratch function to calculate covariance would need to be fed both distributions."
   ]
  },
  {
   "cell_type": "code",
   "execution_count": 11,
   "metadata": {},
   "outputs": [],
   "source": [
    "def find_covar(X, Y):\n",
    "    \n",
    "    #Make sure both distributions have the same population size\n",
    "    assert len(X) == len(Y), 'Distributions have different sizes.'\n",
    "    \n",
    "    muX = X.mean()\n",
    "    muY = Y.mean()\n",
    "    n = len(X)\n",
    "    \n",
    "    covariance = np.sum(\n",
    "                        (X - muX) * (Y - muY)\n",
    "                    ) / n         \n",
    "                    \n",
    "    return covariance"
   ]
  },
  {
   "cell_type": "markdown",
   "metadata": {},
   "source": [
    "As a baseline, let's find the covariance for a distribution with itself."
   ]
  },
  {
   "cell_type": "code",
   "execution_count": 12,
   "metadata": {},
   "outputs": [
    {
     "data": {
      "text/plain": [
       "1.0286805041468774"
      ]
     },
     "execution_count": 12,
     "metadata": {},
     "output_type": "execute_result"
    }
   ],
   "source": [
    "find_covar(carrot_lengths, carrot_lengths)"
   ]
  },
  {
   "cell_type": "markdown",
   "metadata": {},
   "source": [
    "This should be equal to the variance of that distribution."
   ]
  },
  {
   "cell_type": "code",
   "execution_count": 13,
   "metadata": {
    "scrolled": true
   },
   "outputs": [
    {
     "data": {
      "text/plain": [
       "True"
      ]
     },
     "execution_count": 13,
     "metadata": {},
     "output_type": "execute_result"
    }
   ],
   "source": [
    "find_covar(carrot_lengths, carrot_lengths) == find_var(carrot_lengths)"
   ]
  },
  {
   "cell_type": "markdown",
   "metadata": {},
   "source": [
    "Of course, the point of covariance is to compare two diffferent distributions:"
   ]
  },
  {
   "cell_type": "code",
   "execution_count": 14,
   "metadata": {
    "scrolled": true
   },
   "outputs": [
    {
     "name": "stdout",
     "output_type": "stream",
     "text": [
      "Covariance of Flatiron Farms carrots with Virginia's Vegetables:\n",
      "-0.054410964207179335\n",
      "\n",
      "\n",
      "Covariance of Virginia's Vegetables with Raoul's Roots\n",
      "0.317262565199214\n"
     ]
    }
   ],
   "source": [
    "print('Covariance of Flatiron Farms carrots with Virginia\\'s Vegetables:')\n",
    "print(find_covar(carrot_lengths, virginias_vegetables))\n",
    "print('\\n')\n",
    "print('Covariance of Virginia\\'s Vegetables with Raoul\\'s Roots')\n",
    "print(find_covar(virginias_vegetables, raouls_roots))"
   ]
  },
  {
   "cell_type": "markdown",
   "metadata": {},
   "source": [
    "If you flip back up to the plot with the different distributions, you'll see the visual closeness of the Virginia's and Raoul's distributions reflected in their higher covariance.\n",
    "\n",
    "What kinds of covariance might we see?\n",
    "\n",
    "A *positive covariance* shows that higher-than-average values of one random variable tend to change together with higher-than-average values of the other variable. If you were to plot the two variables against each other, you'd see a trend linerising upward and to the right.\n",
    "\n",
    "A *negative covariance* shows that lower-than-average values of one random variable tend to change together with lower-than-average values of the other variable. In a plot of the two variables, you'd see the trend line falling downward and to the right.\n",
    "\n",
    "A covariance close 0 to suggests no relationship between the way the two variables change. A plot of these two variables would lack a trend line.\n"
   ]
  },
  {
   "cell_type": "code",
   "execution_count": 15,
   "metadata": {},
   "outputs": [
    {
     "data": {
      "text/plain": [
       "Text(0.5,1,'Positive covariance')"
      ]
     },
     "execution_count": 15,
     "metadata": {},
     "output_type": "execute_result"
    },
    {
     "data": {
      "image/png": "[encoded data removed]",
      "text/plain": [
       "<Figure size 432x288 with 1 Axes>"
      ]
     },
     "metadata": {
      "needs_background": "light"
     },
     "output_type": "display_data"
    }
   ],
   "source": [
    "#Draw a plot to show positive covariance\n",
    "\n",
    "#Toy data: 1000 random numbers between 1 and 50\n",
    "X = np.random.randint(1, 50, 1000)\n",
    "\n",
    "#1000 slightly different numbers\n",
    "Y = X + (np.random.randint(-15, 15, 1000) * np.random.random(1000))\n",
    "\n",
    "plt.scatter(X, Y)\n",
    "plt.title('Positive covariance')"
   ]
  },
  {
   "cell_type": "code",
   "execution_count": 16,
   "metadata": {},
   "outputs": [
    {
     "data": {
      "text/plain": [
       "190.13275240578585"
      ]
     },
     "execution_count": 16,
     "metadata": {},
     "output_type": "execute_result"
    }
   ],
   "source": [
    "pos_covar = find_covar(X, Y)\n",
    "pos_covar"
   ]
  },
  {
   "cell_type": "code",
   "execution_count": 22,
   "metadata": {},
   "outputs": [
    {
     "data": {
      "text/plain": [
       "Text(0.5,1,'Negative covariance')"
      ]
     },
     "execution_count": 22,
     "metadata": {},
     "output_type": "execute_result"
    },
    {
     "data": {
      "image/png": "[encoded data removed]",
      "text/plain": [
       "<Figure size 432x288 with 1 Axes>"
      ]
     },
     "metadata": {
      "needs_background": "light"
     },
     "output_type": "display_data"
    }
   ],
   "source": [
    "#Draw a plot to show negative covariance\n",
    "\n",
    "#Toy data: numbers 1 through 1000\n",
    "X2 = np.arange(1, 1001, 1)\n",
    "#Similar numbers, going the other way\n",
    "Y2 = np.flip(X2) + (np.random.randint(-200, 200, 1000) * np.random.random(1000))\n",
    "plt.scatter(X2, Y2)\n",
    "plt.title('Negative covariance')"
   ]
  },
  {
   "cell_type": "code",
   "execution_count": 23,
   "metadata": {},
   "outputs": [
    {
     "data": {
      "text/plain": [
       "-82322.96371975048"
      ]
     },
     "execution_count": 23,
     "metadata": {},
     "output_type": "execute_result"
    }
   ],
   "source": [
    "neg_covar = find_covar(X2, Y2)\n",
    "neg_covar"
   ]
  },
  {
   "cell_type": "code",
   "execution_count": 19,
   "metadata": {},
   "outputs": [
    {
     "data": {
      "text/plain": [
       "Text(0.5,1,'Little or nocovariance')"
      ]
     },
     "execution_count": 19,
     "metadata": {},
     "output_type": "execute_result"
    },
    {
     "data": {
      "image/png": "[encoded data removed]",
      "text/plain": [
       "<Figure size 432x288 with 1 Axes>"
      ]
     },
     "metadata": {
      "needs_background": "light"
     },
     "output_type": "display_data"
    }
   ],
   "source": [
    "#Draw a plot to show no covariance\n",
    "plt.scatter(carrot_lengths, virginias_vegetables)\n",
    "plt.title('Little or nocovariance')"
   ]
  },
  {
   "cell_type": "code",
   "execution_count": 20,
   "metadata": {},
   "outputs": [
    {
     "data": {
      "text/plain": [
       "-0.054410964207179335"
      ]
     },
     "execution_count": 20,
     "metadata": {},
     "output_type": "execute_result"
    }
   ],
   "source": [
    "no_covar = find_covar(carrot_lengths, virginias_vegetables)\n",
    "no_covar"
   ]
  },
  {
   "cell_type": "code",
   "execution_count": 21,
   "metadata": {},
   "outputs": [
    {
     "name": "stdout",
     "output_type": "stream",
     "text": [
      "Comparing covariances\n",
      "A positive covariance: 190.13275240578585\n",
      "A negative covariance: -83850.17002420637\n",
      "A lack of covariance: -0.054410964207179335\n"
     ]
    }
   ],
   "source": [
    "print('Comparing covariances')\n",
    "print('A positive covariance:', pos_covar)\n",
    "print('A negative covariance:', neg_covar)\n",
    "print('A lack of covariance:', no_covar)"
   ]
  },
  {
   "cell_type": "markdown",
   "metadata": {},
   "source": [
    "So what do we do with the number that covariance gives us? Not much, it turns out. Aside from noting whether the number is positive, negative, or close to zero, it's difficult to glean any insights from this measure. The number could be anything from negative infinity to positive infinity. Indeed our measure of positive covariance is a much smaller number than the absolute value of our measure for negative covariance. Does that mean that one is somehow much more negative than the other? It doesn't: they're simply measuring different units. Covariance gives us a number which is 'raw', meaning it hasn't been adjusted or scaled in a way to render it useful for making comparisons. But gaining an understanding of covariance helps us to understand correlation, a more useful measure of how two random variables change together.\n",
    "\n",
    "## From Covariance to Correlation\n",
    "\n",
    "If only we could normalize the raw results of covariance to make comparisons among pairs of distributions. Good news! We can. The basic formula for correlation is the same as the formula for covariance but with an extra step: it gets divided by the square root of the product of the standard deviations of the two distributions being measured. Here it is:\n",
    "\n",
    "$$Correlation(X,Y) = \\frac{\\sigma_{X,Y}}{\\sqrt{\\sigma_X\\sigma_Y}}$$\n",
    "\n",
    "By dividing the covariance by the square root product standard deviations in this way, the result gets scaled to a number between 0 and 1.\n",
    "\n",
    "A function for correlation could build upon our earlier function for covariance."
   ]
  },
  {
   "cell_type": "code",
   "execution_count": 26,
   "metadata": {},
   "outputs": [],
   "source": [
    "def find_corr(X, Y):\n",
    "    \n",
    "    correlation = find_covar(X, Y) / np.sqrt(X.std() * Y.std())\n",
    "    \n",
    "    return correlation"
   ]
  },
  {
   "cell_type": "code",
   "execution_count": 27,
   "metadata": {},
   "outputs": [
    {
     "data": {
      "text/plain": [
       "-285.90244715849985"
      ]
     },
     "execution_count": 27,
     "metadata": {},
     "output_type": "execute_result"
    }
   ],
   "source": [
    "find_corr(X, Y)"
   ]
  },
  {
   "cell_type": "markdown",
   "metadata": {},
   "source": [
    "$$ \n",
    "\\begin{align}\n",
    "RSS &= \\sum_{i=1}^n(actual - expected)^2 \\\\\n",
    "&= \\sum_{i=1}^n(y_i - \\hat{y})^2 \\\\\n",
    "&= \\sum_{i=1}^n(y_i - (mx_i + b))^2\n",
    "\\end{align}\n",
    "$$ "
   ]
  },
  {
   "cell_type": "code",
   "execution_count": null,
   "metadata": {},
   "outputs": [],
   "source": []
  },
  {
   "cell_type": "code",
   "execution_count": null,
   "metadata": {},
   "outputs": [],
   "source": []
  },
  {
   "cell_type": "code",
   "execution_count": null,
   "metadata": {},
   "outputs": [],
   "source": []
  },
  {
   "cell_type": "code",
   "execution_count": null,
   "metadata": {},
   "outputs": [],
   "source": []
  },
  {
   "cell_type": "code",
   "execution_count": null,
   "metadata": {},
   "outputs": [],
   "source": []
  },
  {
   "cell_type": "code",
   "execution_count": null,
   "metadata": {},
   "outputs": [],
   "source": []
  },
  {
   "cell_type": "code",
   "execution_count": null,
   "metadata": {},
   "outputs": [],
   "source": []
  },
  {
   "cell_type": "code",
   "execution_count": null,
   "metadata": {},
   "outputs": [],
   "source": []
  },
  {
   "cell_type": "code",
   "execution_count": null,
   "metadata": {},
   "outputs": [],
   "source": []
  },
  {
   "cell_type": "code",
   "execution_count": null,
   "metadata": {},
   "outputs": [],
   "source": []
  },
  {
   "cell_type": "markdown",
   "metadata": {},
   "source": [
    "\n",
    "\n",
    "\n",
    "\n",
    "In this lesson, we shall look at how **Variance** of a random variable is used to calculate **Covariance** and **Correlation**, two key measures used in Statistics for finding the relationships between random variables. These measures help us identify the degree to which two set of data tend to deviate from their expected value (i.e. mean), in a similar way. Based on these measures, we can identify if two variable are dependent on each other, and to what extend. This lesson will help you develop a conceptual understanding, necessary calculations and some precautions while using these measures. \n",
    "\n",
    "## Objectives\n",
    "\n",
    "You will be able to\n",
    "\n",
    "* Understand and explain data variance and how it relates to standard deviation\n",
    "* Understand and calculate Covariance and Correlation between two random variables\n",
    "* Visualize and interpret the results of Covariance and Correlation\n",
    "\n",
    "## What is Variance ($\\sigma^2$)\n",
    "\n",
    "Before we talk about covariance , it is imperative that we get some idea around **Variance** of a random variable. Variance refers to the __spread of a data set__. \n",
    "\n",
    "> __Variance is a measure used to quantify how much a random variable deviates from its mean value__. \n",
    "\n",
    "When we calculate variance, we are essentially asking, \"__Given the relationship of all given data points, how much distant from mean do we expect the next data point to be?__\"  This \"distance\" is called the **error term**, and it's what variance is measuring. \n",
    "\n",
    "Variance is shown using notatioin $\\sigma^2$. Previously, we have seen $\\sigma$ as a measure of standard deviation within a given dataset. Remember standard deviation is also a measure of spread of data. __Variance is simply the square of standard deviation (Or we could say standard deviation is is the square root of variance)__. \n",
    "\n",
    "### Example Use Case\n",
    "\n",
    "For example, a simple application of this measure could be associating probabilities with predicted future events in a market research activity, identifying them as \"very likely\" or \"unlikely\" etc. Most people are risk averse, in that they wish to minimize the amount of risk they must endure to earn a certain level of expected return. If investors were indifferent to risk, they would not be influenced by the differences between stock A and stock B above, whereas the risk-averse investor would clearly prefer stock A. Therefore, most people want to know the range or dispersion(spread/deviation as we termed it earlier) of possible outcomes, as well as the likelihood of certain outcomes occurring. Variance measure is a great way to find all of the possible values and likelihoods that a random variable can take within a given range defined by the underlying data. \n",
    "\n",
    "\n",
    "Consider the following graphs for Conglomo, Inc. and Bilco, Inc. These graphs show the theoretical frequency distributions of the monthly returns for each firm's common stock as though the returns were normally distributed.\n",
    "\n",
    "<img src=\"images/var.png\" width=400>\n",
    "\n",
    "Conglomo's distribution of returns is more concentrated than Bilco's, as illustrated by Conglomo's relatively wider bell curve. A more concentrated distribution is defined as having a smaller standard deviation. The distribution curve appears higher, steeper, and narrower because more observations are occurring close to the expected return. Bilco's distribution is rather flat, reflecting that its returns are less concentrated, or more dispersed, than those of Conglomo Inc.\n",
    "\n",
    "### Interpreting Variance \n",
    "\n",
    "A variance value of zero represents that all of the values within a data set are identical, while all variances that are not equal to zero will come in the form of positive numbers. The larger the variance, the more spread in the data set. A large variance means that the numbers in a set are far from the mean and each other. A small variance means that the numbers are closer together in value. \n",
    "### How to Calculate Variance? \n",
    "\n",
    "Variance is calculated by:\n",
    "1. Taking the differences between each element in a data set and the mean, \n",
    "2. Squaring those differences to give it a positive value\n",
    "3. Dividing the sum of the resulting squares by the number of values in the set.\n",
    "\n",
    "$$\\sigma^2 = \\frac{\\sum(x-\\mu)^2}{n}$$\n",
    "\n",
    "Here, $x$ represents an individual data point and $\\mu$ represents the mean of the data points. $N$ is the total number of data points. Remember that while calculating a sample variance in order to estimate a population variance, the denominator of the variance equation becomes n - 1. This removes bias from the estimation, as it prohibits the researcher from underestimating the population variance.\n",
    "\n",
    "Following illustration summarizes how spread of data around mean (10) relates to the variance. \n",
    "\n",
    "<img src=\"images/var2.png\" width=500>\n",
    "\n",
    "\n",
    "## Covariance ($\\sigma_{xy}$)\n",
    "\n",
    "Now that we know what variance is what quantity it measures, imagine calculating variance of two random variables to get some idea on how they change together (or stay the same) considering all included values.\n",
    "\n",
    "In Stats, If we are trying to figure out how two random variables tend to **vary** together, we are effectively talking about **Covariance** between these variables. Covariance provides an insight into how two variables are __related__ to one another. \n",
    "\n",
    "More precisely, covariance refers to:\n",
    "> The measure of how two random variables in a data set will __change together__. \n",
    "  \n",
    "### How to calculate Covariance ?\n",
    "In essence, covariance is used to measure **how much variables change *together* **, and its calculated using the formula:\n",
    "\n",
    "\n",
    "$$ \\large \\sigma_{XY} = \\frac{\\sum_{i=1}^{n}(x_i -\\mu_x)(z_i - \\mu_y)}{n}$$\n",
    "\n",
    "Here $X$ and $Y$ are two random variables having n elements each. We want to caluclate ___how much $Y$ depends on $X$___ (or vice-versa), by measuring how values in $Y$ change with observed changes in $X$ values. \n",
    "\n",
    "> This makes $X$ our __independent variable__ and $Y$, the __dependent variable__.  \n",
    "\n",
    "$xi$ = ith element of variable $X$\n",
    "\n",
    "$yi$ = ith element of variable $Y$\n",
    "\n",
    "$n$ = number of data points (__$n$ must be same for $X$ and $Y$__)\n",
    "\n",
    "$\\mu_x$ = mean of the independent variable $X$\n",
    "\n",
    "$\\mu_y$ = mean of the dependent variable $Y$\n",
    "\n",
    "$\\sigma_{XY}$ = Covariance between $X$ and $Y$\n",
    "\n",
    "*We can see that above formula calculates the variance of $X$ and $Y$ (check the variance formula above) by multiplying the variance of each of their corresponding elements. Hence the term __Co-Variance__.*\n",
    "\n",
    "### Interpreting Covariance values \n",
    "\n",
    "* A positive covariance indicates that **higher than average** values of one variable tend to pair with higher than average values of the other variable.\n",
    "\n",
    "* Negative covariance indicates that lower than average values of one variable tend to pair with **lower than average** values of the other variable. \n",
    "\n",
    "* a zero value, or values close to zero indicate no covariance, i.e. no values from one variable can be paired with values of second variable. \n",
    "\n",
    "This behavior can be further explained using the scatter plots below\n",
    "<img src=\"images/covariance.gif\" width=500>\n",
    "\n",
    "\n",
    "\n",
    "A large negative covariance value show an inverse relationship between values at x and y axes. i.e. y decreases as x increases. This is shown by the scatter plot on the left. The middle scatter plot shows values spread all over the plot, reflecting the fact that variables on x and y axes can not be related in terms of how they vary together. The covariance value for such variables would be very close to zero. \n",
    "\n",
    "In the scatter plot on right, we see a strong relationship between values at x and y axes i.e. y increases as x increases. \n",
    "\n",
    ">__Covariance is not standardized. Therefore, covariance values can range from negative infinity to positive infinity.__\n",
    "\n",
    "## Correlation \n",
    "\n",
    "Above, we saw how covariance can identify the degree to which two random variables tend to vary together, while using a formulation that depends on the units of $X$ and $Y$ variables. During data analysis, covariance measure can not be directly used in data comparison as it different experiments may contain underlying data, measured in different units. For this, we need to normalize this degree of variation into a standard unit, with interpretable results independent of the units of data. We achieve this with a derived normalized measure, called correlation. \n",
    "\n",
    "Correlation is defined as covariance, normalized by the square rooted product of standard deviations of $X$ and $y$. This normalization helps us set the scale from 0 to 1. So the correlation between 𝑋 and 𝑌 would be calculated as:\n",
    "\n",
    "$$Correlation(X,Y) = \\frac{\\sigma_{X,Y}}{\\sqrt{\\sigma_X\\sigma_Y}}$$\n",
    "\n",
    ">When two random variables **Correlate**, this reflects that the change in one item **effects** the change in the values of second variable. \n",
    "\n",
    "In data science practice, we typically to look at correlation rather than covariance because it is more interpretable, since it does not depend on the scale of either random variable involved.\n",
    "\n",
    "\n",
    "### Use Cases\n",
    "\n",
    "\n",
    "#### Social Media and Websites\n",
    "Digital publishers want to maximize their understanding of the potential relationship between social media activity and visits to their website. For example, the digital publisher runs the correlation report between hourly Twitter mentions and visits for a two week period. The correlation is found to be r = 0.28, which indicates a medium, positive relationship between Twitter mentions and website visits.\n",
    "\n",
    "#### Optimization for E-retailers\n",
    "E-retailers are interested in driving increased revenue. For example, an e-retailer wants to compare a number of secondary success events (e.g., file downloads, product detail page views, internal search click-throughs, etc.) with weekly web revenue. They can quikly identify internal search click-throughs as having the highest correlation, which may indicate an area for optimization.\n",
    "\n",
    "### Types of Correlation Measures\n",
    "\n",
    "__Coefficient of correlation__, r, called the linear correlation coefficient, measures the strength and the direction of a linear relationship between two variables. It also called as __Pearson correlation coefficient__. \n",
    "\n",
    "In statistics, we measure four types of correlations for detailed relationship analysis: \n",
    "* Pearson correlation \n",
    "* Kendall Rank correlation \n",
    "* Spearman correlation\n",
    "* Point-Biserial correlation. \n",
    "\n",
    "\n",
    "For now, we shall focus on Pearson correlation as it is the go-to correlation measure for most needs. \n",
    "\n",
    "Pearson __r__ correlation is the most widely used correlation statistic to measure the degree of the relationship between two linearly related variables. For the Pearson r correlation, both variables should be normally distributed (normally distributed variables have a bell-shaped curve). Other assumptions include linearity and homoscedasticity. Linearity assumes a straight line relationship between each of the two variables and homoscedasticity assumes that data is equally distributed about the regression line.\n",
    "\n",
    "\n",
    "### Calculating Coefficient of Correlation (r)\n",
    "\n",
    "Pearson Correlation (r) is calculated using following formula :\n",
    "\n",
    "$$ r = \\frac{\\sum_{i=1}^{n}(x_i -\\mu_x)(y_i - \\mu_y)} {\\sqrt{(\\sum_{i=1}^{n}x_i - \\mu_x)^2 (\\sum_{i=1}^{n}y_i-\\mu_y)^2}}$$\n",
    "\n",
    "So just like in the case of covariance,  $X$ and $Y$ are two random variables having n elements each. \n",
    "\n",
    "\n",
    "$xi$ = ith element of variable $X$\n",
    "\n",
    "$yi$ = ith element of variable $Y$\n",
    "\n",
    "$n$ = number of data points (__$n$ must be same for $X$ and $Y$__)\n",
    "\n",
    "$\\mu_x$ = mean of the independent variable $X$\n",
    "\n",
    "$\\mu_y$ = mean of the dependent variable $Y$\n",
    "\n",
    "$r$ = Calculated Pearson Correlation\n",
    "\n",
    "\n",
    "Here x and y are the random variables, x_bar and y_bar are the mean values for both x and y. A detailed mathematical insight into this equation is available [in this paper](http://www.hep.ph.ic.ac.uk/~hallg/UG_2015/Pearsons.pdf)\n",
    "\n",
    "### Interpreting Correlation values\n",
    "\n",
    "> __Correlation formula shown above always gives values in a range between -1 and 1__\n",
    "\n",
    "If two variables have a correlation of +0.9,  this means the change in one item results in an almost similar change to another item. A correlation value of -0.9 means that the change is one variable results as an opposite change in the other variable. A pearson correlation near 0 would be no effect. Here are some example of pearson correlation calculations as scatter plots. \n",
    "![](pearson_2.png)\n",
    "\n",
    "Think about stock markets in terms of correlation. All the stock market indexes tend to move together in similar directions. When the DOW Jones loses 5%, the S&P 500 usually loses around 5%. When the DOW Jones gains 5%, the S&P 500 usually gains around 5% because they are **highly correlated**.\n",
    "\n",
    "On the other hand, there could also be negative correlation where you might observe that as the DOW Jones loses 5% of it value, Gold might gain 5%. Alternatively, if the Dow Jones gains 5% of its value, Gold may lose 5% of its value. That's **negative correlation**. \n",
    "\n",
    "### So how do these measures relate to each other ?\n",
    "\n",
    "Are Covariance and Correlation The Same Thing? Simply put, no.\n",
    "\n",
    "While both covariance and correlation indicate whether variables are positively or inversely related to each other, they are not considered to be the same. This is because correlation also informs about the degree to which the variables tend to move together. \n",
    "\n",
    "Covariance is used to measure variables that have different units of measurement. By leveraging covariance, analysts are able to determine weather units are increasing or decreasing, but they are unable to solidify the degree to which the variables are moving together due to the fact that covariance does not use one standardized unit of measurement.\n",
    "\n",
    "Correlation, on the other hand, standardizes the measure of interdependence between two variables and informs researchers as to how closely the two variables move together.\n",
    "\n",
    "## Summary\n",
    "In this lesson, we looked at Identifying the variance of random variables as a measure of mean deviation. We saw how this measure can be used to first calculate covariance, followed by the correlation to analyze how change variable effects the change of another variable. Next, we shall see how we can use correlation analysis to run a __regression analysis__ and later, how covariance calculation helps us with dimensionality reduction. "
   ]
  },
  {
   "cell_type": "code",
   "execution_count": null,
   "metadata": {},
   "outputs": [],
   "source": []
  }
 ],
 "metadata": {
  "kernelspec": {
   "display_name": "Python 3",
   "language": "python",
   "name": "python3"
  },
  "language_info": {
   "codemirror_mode": {
    "name": "ipython",
    "version": 3
   },
   "file_extension": ".py",
   "mimetype": "text/x-python",
   "name": "python",
   "nbconvert_exporter": "python",
   "pygments_lexer": "ipython3",
   "version": "3.7.0"
  }
 },
 "nbformat": 4,
 "nbformat_minor": 2
}
