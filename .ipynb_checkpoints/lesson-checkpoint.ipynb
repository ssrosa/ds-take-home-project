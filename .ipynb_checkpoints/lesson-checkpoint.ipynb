{
 "cells": [
  {
   "cell_type": "markdown",
   "metadata": {},
   "source": [
    "# Editor's notes:\n",
    "\n",
    "- I've changed the title to reflect the purpose of the lesson rather than just listing terms to be learned.\n",
    "- I've strengthened the narrative of the text so that the student will understand how one idea connects to the next and how each idea is situated within a larger context.\n",
    "- I've re-written most of the copy to have a lighter, more conversational tone than the leaden tone of the original.\n",
    "- I've corrected the mathematical notation for the equations presented in the lesson. Some were missing the critical detail that the sum to be taken is the sum of all items 1 through n, $\\sum_{i = 1}^n$, not just any sum, $\\sum$. One equation had the alarming typo of introducing a variable z instead of y. The equation for correlation was rendered meaningless by misplaced parentheses.\n",
    "- To help the student appreciate the connection between the abstract notation of calculus and the concrete machinery of code, I've included functions that do the work of the equations presented in the lesson.\n",
    "- I've enriched the text with code snippets to allow the student to see how they can generate the sort of data discussed in the lesson.\n",
    "- I've replaced the static images with dynamic plots. This allows the student to play with visualizing the data on their own.\n",
    "- Working from the assumption that the more abstract the concept, the more defensively we must insist that it will be relevant to the student's day-to-day work in industry, I've added bits throughout the text to explain how a given concept will do this.\n",
    "\n",
    "--Steven Rosa, 10 June 2019"
   ]
  },
  {
   "cell_type": "markdown",
   "metadata": {},
   "source": [
    "# Measuring Simultaneous Change in Two Random Variables\n",
    "\n",
    "## Introduction \n",
    "\n",
    "In this section you have been learning about random variables. You've learned that the set of possible values of a random variable may be measured and plotted with a distribution. You've seen the normal (or Gaussian, or bell-shaped) distribution, and you've learned about some of its parameters, the mean and the standard deviation. In the previous lesson you learned that the standard deviation ($\\sigma$, lower-case sigma) measures how the data in a distribution are dispersed away from the mean value. \n",
    "\n",
    "What if we want to compare the spreads of two different random variables? Two distributions that change together in a positive or negative way might share an important relationship. Observing and measuring such a relationship may yield insights for a data scientist to present to their organization. In this lesson you will learn how to measure the way that the distributions of two random variables change together using variance, covariance, and correlation.\n",
    "\n",
    "## Objectives\n",
    "\n",
    "You will be able to\n",
    "\n",
    "* calculate the variance of the distribution of a random variable based on its standard deviation\n",
    "* use variance to calculate the covariance of the distributions of two random variables\n",
    "* normalize covariance to calculate the Pearson correlation of two random variables\n",
    "* use a correlation matrix to draw insights from a data set of random variables\n",
    "\n",
    "## From Standard Deviation ($\\sigma$) to Variance ($\\sigma^2$)\n",
    "\n",
    "### The Spread on One Side of the Mean\n",
    "\n",
    "If the **standard deviation** measures the spread of values away from the mean of a distribution in one direction, then its square, **variance**, measures the spread away in both directions. It tells us how much the data varies from its mean. Let's look at an uncontroversial example: carrot length. Let's assume that carrot length is a normally-distributed random variable, and let's say that the mean length of 1000 carrots in a produce market is 20cm."
   ]
  },
  {
   "cell_type": "code",
   "execution_count": 2,
   "metadata": {},
   "outputs": [
    {
     "data": {
      "image/png": "[encoded data removed]",
      "text/plain": [
       "<Figure size 432x288 with 1 Axes>"
      ]
     },
     "metadata": {
      "needs_background": "light"
     },
     "output_type": "display_data"
    }
   ],
   "source": [
    "#Mean: carrot length in cm\n",
    "mu = 20\n",
    "\n",
    "#Size of population: number of carrots in market\n",
    "n = 1000\n",
    "\n",
    "# Random variable, normally-distributed: carrot length\n",
    "import numpy as np\n",
    "carrot_lengths = np.random.normal(loc = mu, size = n)\n",
    "\n",
    "# Plot the distribution\n",
    "import matplotlib.pyplot as plt\n",
    "plt.hist(carrot_lengths, bins = 50)\n",
    "plt.title('Lengths of carrots in a produce market')\n",
    "plt.show()"
   ]
  },
  {
   "cell_type": "markdown",
   "metadata": {},
   "source": [
    "The distribution doesn't look *totally* normal; few real-life distributions do. Let's assume it's important to know how many carrots are of average length and how many are extra long or extra short. (Maybe the average-length carrots fit the best in the display bin and the others have to be kept in the back room.) We want to know how many deviate from the standard. Recall the formula for calculating standard deviation:\n",
    "\n",
    "$$\\sigma = \\sqrt{\\frac{\\sum_{i = 1}^n(x_i - \\mu)^2}{n}}$$\n",
    "\n",
    "To get the standard deviation ($\\sigma$), we take the difference between each value in the distribution and the mean ($x_i - \\mu$), square it, take the sum of all these squares $(\\sum)$, divide by the population size ($n$), and take the square root.\n",
    "\n",
    "This equation translates well into a Pythonic function."
   ]
  },
  {
   "cell_type": "code",
   "execution_count": 3,
   "metadata": {},
   "outputs": [],
   "source": [
    "#Function to calculate standard deviation\n",
    "def find_std(X):\n",
    "    \n",
    "    mu = X.mean()\n",
    "    n = len(X)\n",
    "    \n",
    "    sigma = np.sqrt(\n",
    "                    np.sum(\n",
    "                                (X - mu)**2 \n",
    "                           ) / n         \n",
    "                    )\n",
    "    return sigma"
   ]
  },
  {
   "cell_type": "markdown",
   "metadata": {},
   "source": [
    "Let's try calling that function. Remember that the distribution of carrot lengths is normal so we can expect its standard deviation to be 1."
   ]
  },
  {
   "cell_type": "code",
   "execution_count": 4,
   "metadata": {},
   "outputs": [
    {
     "data": {
      "text/plain": [
       "1.0044195459917118"
      ]
     },
     "execution_count": 4,
     "metadata": {},
     "output_type": "execute_result"
    }
   ],
   "source": [
    "find_std(carrot_lengths) #Should return value very close to 1"
   ]
  },
  {
   "cell_type": "markdown",
   "metadata": {},
   "source": [
    "Rather than write a function from scratch, the produce market's data scientist could save time by calling the .std() function on a NumPy array."
   ]
  },
  {
   "cell_type": "code",
   "execution_count": 5,
   "metadata": {},
   "outputs": [
    {
     "data": {
      "text/plain": [
       "1.0044195459917118"
      ]
     },
     "execution_count": 5,
     "metadata": {},
     "output_type": "execute_result"
    }
   ],
   "source": [
    "#Built-in function for NumPy arrays\n",
    "carrot_lengths.std()"
   ]
  },
  {
   "cell_type": "markdown",
   "metadata": {},
   "source": [
    "In this normal distribution, 34.1% of the values will lie within 1cm of the mean on one side. That's standard deviation. \n",
    "\n",
    "### The Spread on Both Sides of the Mean\n",
    "\n",
    "Now to variance. **Variance** is the spread of the data in the distribution in both directions. It is the standard deviation squared. Its formula is the same as the formula for standard deviation but with the square root knocked off.\n",
    "\n",
    "$$\\sigma^2 = \\frac{\\sum_{i = 1}^n(x_i - \\mu)^2}{n}$$\n",
    "\n",
    "To get the variance ($\\sigma^2$), we take the difference between each value in the distribution and the mean ($x_i - \\mu$), square it, take the sum of all these squares ($\\sum$), and divide by the population size ($n$).\n",
    "\n",
    "A from-scratch function to calculate variance would look similar to the $\\sigma$ function:"
   ]
  },
  {
   "cell_type": "code",
   "execution_count": 6,
   "metadata": {},
   "outputs": [],
   "source": [
    "#Function to calculate variance\n",
    "def find_var(X):\n",
    "    \n",
    "    mu = X.mean()\n",
    "    n = len(X)\n",
    "    \n",
    "    variance = np.sum(\n",
    "                        (X - mu)**2 \n",
    "                    ) / n         \n",
    "                    \n",
    "    return variance"
   ]
  },
  {
   "cell_type": "code",
   "execution_count": 7,
   "metadata": {},
   "outputs": [
    {
     "data": {
      "text/plain": [
       "1.0088586243701962"
      ]
     },
     "execution_count": 7,
     "metadata": {},
     "output_type": "execute_result"
    }
   ],
   "source": [
    "find_var(carrot_lengths)"
   ]
  },
  {
   "cell_type": "markdown",
   "metadata": {},
   "source": [
    "And you can guess how the built-in NumPy function looks:"
   ]
  },
  {
   "cell_type": "code",
   "execution_count": 8,
   "metadata": {},
   "outputs": [
    {
     "data": {
      "text/plain": [
       "1.0088586243701962"
      ]
     },
     "execution_count": 8,
     "metadata": {},
     "output_type": "execute_result"
    }
   ],
   "source": [
    "carrot_lengths.var()"
   ]
  },
  {
   "cell_type": "markdown",
   "metadata": {},
   "source": [
    "We've so far looked at a **population distribution**. If we were looking at a **sample distribution**, meaning just a selection of values from a much larger population distribution, we'd make an adjustment to our calculation for variance to eliminate potential 'bias' in the sample. We'd subtract 1 from $n$.\n",
    "\n",
    "If we're already used to working with the standard deviation, why bother with the variance? One reason to look at variance is if you're concerned about outliers--those super duper long or short carrots. A distribution with extreme outliers will have a *much* higher variance because all those big values get *much* bigger after getting squared than small values do.\n",
    "\n",
    "Standard deviation is in the same units as the data itself so it is often the better choice when examining one distribution. It becomes less useful when comparing the spread of two or more distributions. That's when variance comes in handy.\n",
    "\n",
    "### Interpreting Variance\n",
    "\n",
    "Let's look at the variances of a few different distributions."
   ]
  },
  {
   "cell_type": "code",
   "execution_count": 10,
   "metadata": {},
   "outputs": [
    {
     "name": "stderr",
     "output_type": "stream",
     "text": [
      "C:\\Users\\Stee\\Anaconda3good\\lib\\site-packages\\scipy\\stats\\stats.py:1713: FutureWarning: Using a non-tuple sequence for multidimensional indexing is deprecated; use `arr[tuple(seq)]` instead of `arr[seq]`. In the future this will be interpreted as an array index, `arr[np.array(seq)]`, which will result either in an error or a different result.\n",
      "  return np.add.reduce(sorted[indexer] * weights, axis=axis) / sumval\n"
     ]
    },
    {
     "data": {
      "image/png": "[encoded data removed]",
      "text/plain": [
       "<Figure size 576x360 with 1 Axes>"
      ]
     },
     "metadata": {
      "needs_background": "light"
     },
     "output_type": "display_data"
    }
   ],
   "source": [
    "#Another plotting library, a little fancier than matplotlib\n",
    "import seaborn as sns\n",
    "\n",
    "#Another distribution of carrot lengths\n",
    "#(The 'scale' is the standard deviation parameter)\n",
    "virginias_vegetables = np.random.normal(loc = mu, scale = 3, size = n)\n",
    "\n",
    "#A third distribution of carrot lengths\n",
    "raouls_roots = np.random.normal(loc = mu, scale = 5, size = n)\n",
    "\n",
    "#Draw a figure\n",
    "fig = plt.figure(figsize = (8,5))\n",
    "#KDE plots for the three distributions. A KDE plot shows the same \n",
    "#'trend' in the data as a histogram but is less cluttered.\n",
    "sns.kdeplot(carrot_lengths, \\\n",
    "            label = f'Flatiron Farms (var: {round(carrot_lengths.var())})')\n",
    "sns.kdeplot(virginias_vegetables, \\\n",
    "            label = f'Virginia\\'s Vegetables (var: {round(virginias_vegetables.var())})')\n",
    "sns.kdeplot(raouls_roots, \\\n",
    "            label = f'Raoul\\'s Roots (var: {round(raouls_roots.var())})')\n",
    " \n",
    "plt.xlabel('Length of carrots (cm)')\n",
    "plt.legend()\n",
    "plt.title('Lengths of carrots from various farms')\n",
    "plt.show()"
   ]
  },
  {
   "cell_type": "markdown",
   "metadata": {},
   "source": [
    "These three farms could each sell our produce market 1000 carrots with a mean length of 20cm, but how many of the carrots from each farm would actually fit in our display bin? Most of those sold by Flatiron Farms would fit because few of them vary from the mean; its variance is low. 68.2% of its carrots are 1cm longer or shorter than the mean. Imagine all the Flatiron carrots were stacked up beneath the curve, with the extra-long and extra-short ones rolling off the pile onto the sides. It's easy to see that the higher-variance batches from those other two farms would be less practical for our store to display and sell. \n",
    "\n",
    "The extremely high variance for Raoul's carrots compared to Flatiron's is a stark warning about the wild variation of his products. They're all over the place. We wouldn't see this as clearly if we just looked at the standard deviations."
   ]
  },
  {
   "cell_type": "code",
   "execution_count": 11,
   "metadata": {},
   "outputs": [
    {
     "name": "stdout",
     "output_type": "stream",
     "text": [
      "Standard deviation of carrot lengths from three farms\n",
      "Flatiron Farms: 1.0\n",
      "Virginia's Vegetables: 3.0\n",
      "Raoul\\s Roots: 5.0\n"
     ]
    }
   ],
   "source": [
    "print('Standard deviation of carrot lengths from three farms')\n",
    "print(f'Flatiron Farms: {round(carrot_lengths.std())}')\n",
    "print(f'Virginia\\'s Vegetables: {round(virginias_vegetables.std())}')\n",
    "print(f'Raoul\\s Roots: {round(raouls_roots.std())}')"
   ]
  },
  {
   "cell_type": "markdown",
   "metadata": {},
   "source": [
    "5 to 1 doesn't seem like a big difference compared to 25 to 1. The data scientist at the produce market had better tell the procurement specialist about this before they place the next order!\n",
    "\n",
    "## From Variance ($\\sigma^2$) to Covariance ($\\sigma_{xy}$)\n",
    "\n",
    "### Looking for a Relationship\n",
    "\n",
    "Using variance to compare each farm's carrots on its own merits is useful. What if we wanted to compare them (or other things) to each other more directly? When you're looking for a relationship between two variables, you're looking for a *correlation*. Two correlated variables tend to deviate from their means in a similar way. Correlation does not tell us whether one variable causes the change in the other. You may have heard the classic scientist's admonishment that \"correlation is not causation.\" More on that later.\n",
    "\n",
    "For now, to understand correlation, we first need to understand covariance. Covariance is a 'raw' measure of how two random variables change together. (You'll see what we mean by 'raw' in a moment.)\n",
    "\n",
    "The formula for calculating covariance is:\n",
    "\n",
    "$$\\sigma_{x,y} = \\frac{\\sum_{i = 1}^n(x_i - \\mu_x)(y_i - \\mu_y)}{n}$$\n",
    "\n",
    "To get the covariance ($\\sigma_{x,y}$), we take the difference between each value in the first distribution and its mean ($x_i - \\mu_x$), multiply it by the difference between each value in the second distribution and its mean ($y_i - \\mu_y$), take the sum of all these products ($\\sum$), and divide by the population size ($n$). The only difference between this equation and the equation for covariance is that we do not square the differences between the first distribution and the mean. Instead, we multiply each of them by the differences of the other distribution and its mean. Other than that, it's the same. All this assumes that both distributions have the same population size.\n",
    "\n",
    "A from-scratch function to calculate covariance would need to be fed both distributions."
   ]
  },
  {
   "cell_type": "code",
   "execution_count": 12,
   "metadata": {},
   "outputs": [],
   "source": [
    "def find_cov(X, Y):\n",
    "    \n",
    "    #Make sure both distributions have the same population size\n",
    "    assert len(X) == len(Y), 'Distributions have different sizes.'\n",
    "    \n",
    "    muX = X.mean()\n",
    "    muY = Y.mean()\n",
    "    n = len(X)\n",
    "    \n",
    "    covariance = np.sum(\n",
    "                        (X - muX) * (Y - muY)\n",
    "                    ) / n         \n",
    "                    \n",
    "    return covariance"
   ]
  },
  {
   "cell_type": "markdown",
   "metadata": {},
   "source": [
    "As a baseline, let's find the covariance for a distribution with itself."
   ]
  },
  {
   "cell_type": "code",
   "execution_count": 13,
   "metadata": {},
   "outputs": [
    {
     "data": {
      "text/plain": [
       "1.0088586243701962"
      ]
     },
     "execution_count": 13,
     "metadata": {},
     "output_type": "execute_result"
    }
   ],
   "source": [
    "find_cov(carrot_lengths, carrot_lengths)"
   ]
  },
  {
   "cell_type": "markdown",
   "metadata": {},
   "source": [
    "This should be equal to the variance of that distribution."
   ]
  },
  {
   "cell_type": "code",
   "execution_count": 15,
   "metadata": {},
   "outputs": [
    {
     "data": {
      "text/plain": [
       "True"
      ]
     },
     "execution_count": 15,
     "metadata": {},
     "output_type": "execute_result"
    }
   ],
   "source": [
    "find_cov(carrot_lengths, carrot_lengths) == find_var(carrot_lengths)"
   ]
  },
  {
   "cell_type": "markdown",
   "metadata": {},
   "source": [
    "Of course, the point of covariance is to compare two different distributions. Let's look at a few.\n",
    "\n",
    "### Interpreting Covariance\n",
    "\n",
    "What kinds of covariance might we see?\n",
    "\n",
    "A *positive covariance* shows that higher-than-average values of one random variable tend to change together with higher-than-average values of the other variable. If you were to plot the two variables against each other, you'd see a trend line rising upward and to the right.\n",
    "\n",
    "A *negative covariance* shows that lower-than-average values of one random variable tend to change together with lower-than-average values of the other variable. In a plot of the two variables, you'd see the trend line falling downward and to the right.\n",
    "\n",
    "A covariance close 0 to suggests no relationship between the way the two variables change. A plot of these two variables would lack a trend line.\n"
   ]
  },
  {
   "cell_type": "code",
   "execution_count": 16,
   "metadata": {},
   "outputs": [
    {
     "data": {
      "text/plain": [
       "Text(0.5,1,'Positive covariance')"
      ]
     },
     "execution_count": 16,
     "metadata": {},
     "output_type": "execute_result"
    },
    {
     "data": {
      "image/png": "[encoded data removed]",
      "text/plain": [
       "<Figure size 432x288 with 1 Axes>"
      ]
     },
     "metadata": {
      "needs_background": "light"
     },
     "output_type": "display_data"
    }
   ],
   "source": [
    "#Draw a plot to show positive covariance\n",
    "\n",
    "#Toy data: 1000 random numbers between 1 and 50\n",
    "X = np.random.randint(1, 50, 1000)\n",
    "\n",
    "#1000 slightly different numbers\n",
    "Y = X + (np.random.randint(-15, 15, 1000) * np.random.random(1000))\n",
    "\n",
    "plt.scatter(X, Y)\n",
    "plt.title('Positive covariance')"
   ]
  },
  {
   "cell_type": "code",
   "execution_count": 17,
   "metadata": {},
   "outputs": [
    {
     "data": {
      "text/plain": [
       "196.91572277941066"
      ]
     },
     "execution_count": 17,
     "metadata": {},
     "output_type": "execute_result"
    }
   ],
   "source": [
    "pos_covar = find_cov(X, Y)\n",
    "pos_covar"
   ]
  },
  {
   "cell_type": "markdown",
   "metadata": {},
   "source": [
    "As with the previous measures, there's a NumPy function for finding covariance. It returns an array with a bit more information than we need, so we'll extract just the number we want:"
   ]
  },
  {
   "cell_type": "code",
   "execution_count": 18,
   "metadata": {},
   "outputs": [
    {
     "data": {
      "text/plain": [
       "197.11283561502566"
      ]
     },
     "execution_count": 18,
     "metadata": {},
     "output_type": "execute_result"
    }
   ],
   "source": [
    "np.cov(X, Y)[0][1] #Should be the same as or very close to the above value"
   ]
  },
  {
   "cell_type": "code",
   "execution_count": 19,
   "metadata": {},
   "outputs": [
    {
     "data": {
      "text/plain": [
       "Text(0.5,1,'Negative covariance')"
      ]
     },
     "execution_count": 19,
     "metadata": {},
     "output_type": "execute_result"
    },
    {
     "data": {
      "image/png": "[encoded data removed]",
      "text/plain": [
       "<Figure size 432x288 with 1 Axes>"
      ]
     },
     "metadata": {
      "needs_background": "light"
     },
     "output_type": "display_data"
    }
   ],
   "source": [
    "#Draw a plot to show negative covariance\n",
    "\n",
    "#Toy data: numbers 1 through 1000\n",
    "X2 = np.arange(1, 1001, 1)\n",
    "#Similar numbers, going the other way\n",
    "Y2 = np.flip(X2) + (np.random.randint(-200, 200, 1000) * np.random.random(1000))\n",
    "plt.scatter(X2, Y2)\n",
    "plt.title('Negative covariance')"
   ]
  },
  {
   "cell_type": "code",
   "execution_count": 20,
   "metadata": {},
   "outputs": [
    {
     "data": {
      "text/plain": [
       "-82999.79883939483"
      ]
     },
     "execution_count": 20,
     "metadata": {},
     "output_type": "execute_result"
    }
   ],
   "source": [
    "neg_covar = find_cov(X2, Y2)\n",
    "neg_covar"
   ]
  },
  {
   "cell_type": "code",
   "execution_count": 21,
   "metadata": {},
   "outputs": [
    {
     "data": {
      "text/plain": [
       "Text(0.5,1,'Little or nocovariance')"
      ]
     },
     "execution_count": 21,
     "metadata": {},
     "output_type": "execute_result"
    },
    {
     "data": {
      "image/png": "[encoded data removed]",
      "text/plain": [
       "<Figure size 432x288 with 1 Axes>"
      ]
     },
     "metadata": {
      "needs_background": "light"
     },
     "output_type": "display_data"
    }
   ],
   "source": [
    "#Draw a plot to show no covariance\n",
    "plt.scatter(carrot_lengths, virginias_vegetables)\n",
    "plt.title('Little or nocovariance')"
   ]
  },
  {
   "cell_type": "code",
   "execution_count": 22,
   "metadata": {},
   "outputs": [
    {
     "data": {
      "text/plain": [
       "0.06200657016095579"
      ]
     },
     "execution_count": 22,
     "metadata": {},
     "output_type": "execute_result"
    }
   ],
   "source": [
    "no_covar = find_cov(carrot_lengths, virginias_vegetables)\n",
    "no_covar"
   ]
  },
  {
   "cell_type": "code",
   "execution_count": 23,
   "metadata": {},
   "outputs": [
    {
     "name": "stdout",
     "output_type": "stream",
     "text": [
      "Comparing covariances\n",
      "A positive covariance: 196.91572277941066\n",
      "A negative covariance: -82999.79883939483\n",
      "A lack of covariance: 0.06200657016095579\n"
     ]
    }
   ],
   "source": [
    "print('Comparing covariances')\n",
    "print('A positive covariance:', pos_covar)\n",
    "print('A negative covariance:', neg_covar)\n",
    "print('A lack of covariance:', no_covar)"
   ]
  },
  {
   "cell_type": "markdown",
   "metadata": {},
   "source": [
    "So what do we do with the number that covariance gives us? Not much, it turns out. Aside from noting whether the number is positive, negative, or close to zero, it's difficult to glean any insights from this measure. The number could be anything from negative infinity to positive infinity. Indeed our measure for positive covariance is a much smaller number than the absolute value of our measure for negative covariance. Does that mean that one is somehow much more negative than the other? It doesn't: they're simply measuring different units. Covariance gives us a number which is 'raw', meaning it hasn't been adjusted or scaled in a way to render it useful for making comparisons. But gaining an understanding of covariance helps us to understand correlation, a more useful measure of how two random variables change together.\n",
    "\n",
    "## From Covariance to Correlation\n",
    "### The Correlation Coefficient\n",
    "If only we could normalize the raw results of covariance to make comparisons among pairs of distributions. Good news! We can. There are a few different ways. You may encounter correlation under these names:\n",
    "\n",
    "- Pearson correlation\n",
    "- Kendall's Tau\n",
    "- Spearman's Rank\n",
    "- Point-biserial\n",
    "\n",
    "**Pearson correlation** is the most common and it's the version we'll use here. (Just note that the other kinds may come up once in a while in your work.) The number returned by a Pearson correlation operation is called the **correlation coefficient**, $r$. This number will always be between -1, a perfectly negative correlation, and 1, a perfectly positive correlation. Recall from our covariance plots above that the negative trend sloped downward and to the right while the positive trend sloped upward and to the right. In a correlation plot, $r$ would indicate these same trends.\n",
    "\n",
    "Pearson correlation works under a few assumptions:\n",
    "1. It assumes that both variables are normally distributed;\n",
    "2. that the relationship between the two variables will be **linear**, not a curve;\n",
    "3. and that the data will be **homoscedastic**, meaning its variance will stay consistent across the distribution, not increase or decrease in a big way.\n",
    "\n",
    "With all that in mind, we're ready to work with the formula for Pearson correlation. \n",
    "\n",
    "$$r_{x,y} = \\frac{\\sigma_{X,Y}}{\\sigma_X\\sigma_Y}$$\n",
    "\n",
    "To calculate Pearson correlation $(r_{x,y})$, divide the covariance of two random variables $(\\sigma_{X,Y})$ by the product of their standard deviations $({\\sigma_X\\sigma_Y})$.\n",
    "\n",
    "You may also see it represented this way, but it amounts to the same thing. (Divide the covariance of two random variables by the square root of the product of their variances.)\n",
    "\n",
    "$$r_{x,y} = \\frac{\\sigma_{X,Y}}{\\sqrt{\\sigma_X^2\\sigma_Y^2}}$$\n",
    "\n",
    "A function in Python for the formula could build upon our earlier function for covariance:"
   ]
  },
  {
   "cell_type": "code",
   "execution_count": 24,
   "metadata": {},
   "outputs": [],
   "source": [
    "def find_corr(X, Y):\n",
    "    \n",
    "    correlation = find_cov(X, Y) / (X.std() * Y.std())\n",
    "    \n",
    "    return correlation"
   ]
  },
  {
   "cell_type": "code",
   "execution_count": 25,
   "metadata": {},
   "outputs": [
    {
     "data": {
      "text/plain": [
       "0.9999999999999998"
      ]
     },
     "execution_count": 25,
     "metadata": {},
     "output_type": "execute_result"
    }
   ],
   "source": [
    "#Should have a perfect positive correlation\n",
    "find_corr(carrot_lengths, carrot_lengths)"
   ]
  },
  {
   "cell_type": "code",
   "execution_count": 26,
   "metadata": {},
   "outputs": [
    {
     "data": {
      "text/plain": [
       "0.02064875470394102"
      ]
     },
     "execution_count": 26,
     "metadata": {},
     "output_type": "execute_result"
    }
   ],
   "source": [
    "#Should have very little correlation\n",
    "find_corr(carrot_lengths, virginias_vegetables)"
   ]
  },
  {
   "cell_type": "markdown",
   "metadata": {},
   "source": [
    "### Interpreting Correlation\n",
    "\n",
    "Let's say we've heard anecdotally that customers at our market are often impressed by the bright orange color of Flatiron's carrots. We've also heard occasional disparaging remarks about the listless color of carrots from the other farms. What if color and length are correlated? That would be useful to know. We ask the farm for their data about the 1000 carrots they shipped to us. It's up to us to interpret it.\n",
    "\n",
    "NumPy's correlation functions aren't as straightforward as their functions for standard deviation, variance, &c., so we won't introduce them here. But you can use Pandas to find correlation."
   ]
  },
  {
   "cell_type": "code",
   "execution_count": 27,
   "metadata": {},
   "outputs": [],
   "source": [
    "import pandas as pd\n",
    "\n",
    "#Toy data: brightness of color of each carrot from Flatiron Farms.\n",
    "#(Ideal brightness is at the mean.)\n",
    "brightness = (carrot_lengths / (5 + np.random.random(1000)))\n",
    "\n",
    "#Extra toy data from the farm: dampness of the soil from which the \n",
    "#carrot was pulled. 50 is normal dampness; 100 is sodden; 0 is dry.\n",
    "dampness = np.random.normal(loc = 50, scale = 25, size = n)\n",
    "\n",
    "#Smush together our three arrays into a new array of 1000 rows, 3 columns\n",
    "data = np.array([carrot_lengths, brightness, dampness]).T\n",
    "#Get columns labels\n",
    "columns = ['Carrot_Length', 'Color Brightness', 'Soil Dampness']\n",
    "#Build a dataframe to compare carrot attributes\n",
    "carrots = pd.DataFrame(data = data, columns = columns) "
   ]
  },
  {
   "cell_type": "code",
   "execution_count": 28,
   "metadata": {},
   "outputs": [
    {
     "data": {
      "text/html": [
       "<div>\n",
       "<style scoped>\n",
       "    .dataframe tbody tr th:only-of-type {\n",
       "        vertical-align: middle;\n",
       "    }\n",
       "\n",
       "    .dataframe tbody tr th {\n",
       "        vertical-align: top;\n",
       "    }\n",
       "\n",
       "    .dataframe thead th {\n",
       "        text-align: right;\n",
       "    }\n",
       "</style>\n",
       "<table border=\"1\" class=\"dataframe\">\n",
       "  <thead>\n",
       "    <tr style=\"text-align: right;\">\n",
       "      <th></th>\n",
       "      <th>Carrot_Length</th>\n",
       "      <th>Color Brightness</th>\n",
       "      <th>Soil Dampness</th>\n",
       "    </tr>\n",
       "  </thead>\n",
       "  <tbody>\n",
       "    <tr>\n",
       "      <th>0</th>\n",
       "      <td>19.607370</td>\n",
       "      <td>3.627511</td>\n",
       "      <td>38.524763</td>\n",
       "    </tr>\n",
       "    <tr>\n",
       "      <th>1</th>\n",
       "      <td>20.694412</td>\n",
       "      <td>3.836016</td>\n",
       "      <td>51.394334</td>\n",
       "    </tr>\n",
       "    <tr>\n",
       "      <th>2</th>\n",
       "      <td>19.266200</td>\n",
       "      <td>3.336614</td>\n",
       "      <td>33.216526</td>\n",
       "    </tr>\n",
       "    <tr>\n",
       "      <th>3</th>\n",
       "      <td>21.642041</td>\n",
       "      <td>4.151662</td>\n",
       "      <td>48.101295</td>\n",
       "    </tr>\n",
       "    <tr>\n",
       "      <th>4</th>\n",
       "      <td>19.767936</td>\n",
       "      <td>3.512885</td>\n",
       "      <td>46.868621</td>\n",
       "    </tr>\n",
       "  </tbody>\n",
       "</table>\n",
       "</div>"
      ],
      "text/plain": [
       "   Carrot_Length  Color Brightness  Soil Dampness\n",
       "0      19.607370          3.627511      38.524763\n",
       "1      20.694412          3.836016      51.394334\n",
       "2      19.266200          3.336614      33.216526\n",
       "3      21.642041          4.151662      48.101295\n",
       "4      19.767936          3.512885      46.868621"
      ]
     },
     "execution_count": 28,
     "metadata": {},
     "output_type": "execute_result"
    }
   ],
   "source": [
    "carrots.head()"
   ]
  },
  {
   "cell_type": "markdown",
   "metadata": {},
   "source": [
    "There's all our useful carrot data. To find the correlation among these  variables, we call .corr() on the Pandas DataFrame."
   ]
  },
  {
   "cell_type": "code",
   "execution_count": 29,
   "metadata": {},
   "outputs": [
    {
     "data": {
      "text/html": [
       "<div>\n",
       "<style scoped>\n",
       "    .dataframe tbody tr th:only-of-type {\n",
       "        vertical-align: middle;\n",
       "    }\n",
       "\n",
       "    .dataframe tbody tr th {\n",
       "        vertical-align: top;\n",
       "    }\n",
       "\n",
       "    .dataframe thead th {\n",
       "        text-align: right;\n",
       "    }\n",
       "</style>\n",
       "<table border=\"1\" class=\"dataframe\">\n",
       "  <thead>\n",
       "    <tr style=\"text-align: right;\">\n",
       "      <th></th>\n",
       "      <th>Carrot_Length</th>\n",
       "      <th>Color Brightness</th>\n",
       "      <th>Soil Dampness</th>\n",
       "    </tr>\n",
       "  </thead>\n",
       "  <tbody>\n",
       "    <tr>\n",
       "      <th>Carrot_Length</th>\n",
       "      <td>1.000000</td>\n",
       "      <td>0.684959</td>\n",
       "      <td>0.000049</td>\n",
       "    </tr>\n",
       "    <tr>\n",
       "      <th>Color Brightness</th>\n",
       "      <td>0.684959</td>\n",
       "      <td>1.000000</td>\n",
       "      <td>-0.006384</td>\n",
       "    </tr>\n",
       "    <tr>\n",
       "      <th>Soil Dampness</th>\n",
       "      <td>0.000049</td>\n",
       "      <td>-0.006384</td>\n",
       "      <td>1.000000</td>\n",
       "    </tr>\n",
       "  </tbody>\n",
       "</table>\n",
       "</div>"
      ],
      "text/plain": [
       "                  Carrot_Length  Color Brightness  Soil Dampness\n",
       "Carrot_Length          1.000000          0.684959       0.000049\n",
       "Color Brightness       0.684959          1.000000      -0.006384\n",
       "Soil Dampness          0.000049         -0.006384       1.000000"
      ]
     },
     "execution_count": 29,
     "metadata": {},
     "output_type": "execute_result"
    }
   ],
   "source": [
    "carrots.corr()"
   ]
  },
  {
   "cell_type": "markdown",
   "metadata": {},
   "source": [
    "This gives us a **correlation matrix**. Pandas calculates the correlation of each cell's row with its column using the same formula as ours. If you've worked with heat maps then this may be familiar: the correlation matrix supplies the numbers to a heat map to show the strength of relationships between variables using color gradation.\n",
    "\n",
    "We see that the diagonal cells in the matrix have $r$ values of 1. They show the correlation of each variable with itself. We then see that carrot length and color brightness have a high $r$ value while soil dampness has a very low $r$ with both of them. Length is correlated to brightness of color. We could infer that carrots that grow to the ideal length will grow into their ideal color. If they grow too long the color might get too dark. Those that don't finish growing may not develop their full color. This is an intuitive conclusion but when it is borne out by data it becomes an 'actionable insight' that a data scientist can present to their organization. The carrots from Flatiron Farms are consistent in their length and color, with fewer funny-looking outliers, and they're easier for us to display and sell. (It was nice of the farm to send us the data on soil dampness but it looks like it doesn't have a relationship with length.)\n",
    "\n",
    "### Summary\n",
    "\n",
    "As you can see, **correlation** can reveal essential insights about data, and not just carrot data. You'll use correlation in many ways as a data scientist: to decide which features to include and exclude in regression models, to grade the performance of classification models, and so on. Correlation allows us to compare the change between two random variables because it is normalized to a universal scale. It is built upon **covariance**, a raw measure of the similarity in the change between two variables which is itself built upon **variance**, the spread of data across the distribution of one random variable. Variance is the square of **standard deviation**, a measure of the spread of data in one direction away from the mean of the distribution of a random variable. We'll continue looking at properties of random variables in the next lesson."
   ]
  }
 ],
 "metadata": {
  "kernelspec": {
   "display_name": "Python 3",
   "language": "python",
   "name": "python3"
  },
  "language_info": {
   "codemirror_mode": {
    "name": "ipython",
    "version": 3
   },
   "file_extension": ".py",
   "mimetype": "text/x-python",
   "name": "python",
   "nbconvert_exporter": "python",
   "pygments_lexer": "ipython3",
   "version": "3.7.0"
  }
 },
 "nbformat": 4,
 "nbformat_minor": 2
}
